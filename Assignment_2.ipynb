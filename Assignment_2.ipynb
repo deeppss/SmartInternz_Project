{
  "cells": [
    {
      "cell_type": "markdown",
      "metadata": {
        "id": "view-in-github",
        "colab_type": "text"
      },
      "source": [
        "<a href=\"https://colab.research.google.com/github/deeppss/SmartInternz_Project/blob/main/Assignment_2.ipynb\" target=\"_parent\"><img src=\"https://colab.research.google.com/assets/colab-badge.svg\" alt=\"Open In Colab\"/></a>"
      ]
    },
    {
      "cell_type": "markdown",
      "source": [
        "# **Assignment-2**\n",
        "\n",
        "#### Done by: Deepu John (20BDS0373)"
      ],
      "metadata": {
        "id": "plNFYUOXXvkN"
      },
      "id": "plNFYUOXXvkN"
    },
    {
      "cell_type": "code",
      "execution_count": null,
      "id": "eab3d771",
      "metadata": {
        "execution": {
          "iopub.execute_input": "2022-11-18T12:56:38.135172Z",
          "iopub.status.busy": "2022-11-18T12:56:38.134068Z",
          "iopub.status.idle": "2022-11-18T12:56:45.595455Z",
          "shell.execute_reply": "2022-11-18T12:56:45.594291Z"
        },
        "papermill": {
          "duration": 7.476205,
          "end_time": "2022-11-18T12:56:45.598527",
          "exception": false,
          "start_time": "2022-11-18T12:56:38.122322",
          "status": "completed"
        },
        "tags": [],
        "id": "eab3d771"
      },
      "outputs": [],
      "source": [
        "import pandas as pd\n",
        "import numpy as np\n",
        "import tensorflow as tf\n",
        "from sklearn.preprocessing import LabelEncoder, StandardScaler\n",
        "from sklearn.metrics import confusion_matrix, accuracy_score\n",
        "from sklearn.model_selection import train_test_split\n",
        "from sklearn.compose import ColumnTransformer\n",
        "from sklearn.preprocessing import OneHotEncoder\n",
        "import os"
      ]
    },
    {
      "cell_type": "markdown",
      "id": "9b4f011f",
      "metadata": {
        "papermill": {
          "duration": 0.005848,
          "end_time": "2022-11-18T12:56:45.610249",
          "exception": false,
          "start_time": "2022-11-18T12:56:45.604401",
          "status": "completed"
        },
        "tags": [],
        "id": "9b4f011f"
      },
      "source": [
        "# 1. Data Loading and Pre-processing"
      ]
    },
    {
      "cell_type": "code",
      "execution_count": null,
      "id": "529d58fb",
      "metadata": {
        "execution": {
          "iopub.execute_input": "2022-11-18T12:56:45.624148Z",
          "iopub.status.busy": "2022-11-18T12:56:45.623110Z",
          "iopub.status.idle": "2022-11-18T12:56:45.670558Z",
          "shell.execute_reply": "2022-11-18T12:56:45.668582Z"
        },
        "papermill": {
          "duration": 0.057146,
          "end_time": "2022-11-18T12:56:45.673272",
          "exception": false,
          "start_time": "2022-11-18T12:56:45.616126",
          "status": "completed"
        },
        "tags": [],
        "colab": {
          "base_uri": "https://localhost:8080/",
          "height": 206
        },
        "id": "529d58fb",
        "outputId": "2153e85a-fe7b-4d7f-cc6a-e6215b81d48f"
      },
      "outputs": [
        {
          "output_type": "execute_result",
          "data": {
            "text/plain": [
              "   Age Sex      BP Cholesterol  Na_to_K   Drug\n",
              "0   23   F    HIGH        HIGH   25.355  DrugY\n",
              "1   47   M     LOW        HIGH   13.093  drugC\n",
              "2   47   M     LOW        HIGH   10.114  drugC\n",
              "3   28   F  NORMAL        HIGH    7.798  drugX\n",
              "4   61   F     LOW        HIGH   18.043  DrugY"
            ],
            "text/html": [
              "\n",
              "  <div id=\"df-cbf7b578-243f-46a5-9a94-37dafdf86a7e\">\n",
              "    <div class=\"colab-df-container\">\n",
              "      <div>\n",
              "<style scoped>\n",
              "    .dataframe tbody tr th:only-of-type {\n",
              "        vertical-align: middle;\n",
              "    }\n",
              "\n",
              "    .dataframe tbody tr th {\n",
              "        vertical-align: top;\n",
              "    }\n",
              "\n",
              "    .dataframe thead th {\n",
              "        text-align: right;\n",
              "    }\n",
              "</style>\n",
              "<table border=\"1\" class=\"dataframe\">\n",
              "  <thead>\n",
              "    <tr style=\"text-align: right;\">\n",
              "      <th></th>\n",
              "      <th>Age</th>\n",
              "      <th>Sex</th>\n",
              "      <th>BP</th>\n",
              "      <th>Cholesterol</th>\n",
              "      <th>Na_to_K</th>\n",
              "      <th>Drug</th>\n",
              "    </tr>\n",
              "  </thead>\n",
              "  <tbody>\n",
              "    <tr>\n",
              "      <th>0</th>\n",
              "      <td>23</td>\n",
              "      <td>F</td>\n",
              "      <td>HIGH</td>\n",
              "      <td>HIGH</td>\n",
              "      <td>25.355</td>\n",
              "      <td>DrugY</td>\n",
              "    </tr>\n",
              "    <tr>\n",
              "      <th>1</th>\n",
              "      <td>47</td>\n",
              "      <td>M</td>\n",
              "      <td>LOW</td>\n",
              "      <td>HIGH</td>\n",
              "      <td>13.093</td>\n",
              "      <td>drugC</td>\n",
              "    </tr>\n",
              "    <tr>\n",
              "      <th>2</th>\n",
              "      <td>47</td>\n",
              "      <td>M</td>\n",
              "      <td>LOW</td>\n",
              "      <td>HIGH</td>\n",
              "      <td>10.114</td>\n",
              "      <td>drugC</td>\n",
              "    </tr>\n",
              "    <tr>\n",
              "      <th>3</th>\n",
              "      <td>28</td>\n",
              "      <td>F</td>\n",
              "      <td>NORMAL</td>\n",
              "      <td>HIGH</td>\n",
              "      <td>7.798</td>\n",
              "      <td>drugX</td>\n",
              "    </tr>\n",
              "    <tr>\n",
              "      <th>4</th>\n",
              "      <td>61</td>\n",
              "      <td>F</td>\n",
              "      <td>LOW</td>\n",
              "      <td>HIGH</td>\n",
              "      <td>18.043</td>\n",
              "      <td>DrugY</td>\n",
              "    </tr>\n",
              "  </tbody>\n",
              "</table>\n",
              "</div>\n",
              "      <button class=\"colab-df-convert\" onclick=\"convertToInteractive('df-cbf7b578-243f-46a5-9a94-37dafdf86a7e')\"\n",
              "              title=\"Convert this dataframe to an interactive table.\"\n",
              "              style=\"display:none;\">\n",
              "        \n",
              "  <svg xmlns=\"http://www.w3.org/2000/svg\" height=\"24px\"viewBox=\"0 0 24 24\"\n",
              "       width=\"24px\">\n",
              "    <path d=\"M0 0h24v24H0V0z\" fill=\"none\"/>\n",
              "    <path d=\"M18.56 5.44l.94 2.06.94-2.06 2.06-.94-2.06-.94-.94-2.06-.94 2.06-2.06.94zm-11 1L8.5 8.5l.94-2.06 2.06-.94-2.06-.94L8.5 2.5l-.94 2.06-2.06.94zm10 10l.94 2.06.94-2.06 2.06-.94-2.06-.94-.94-2.06-.94 2.06-2.06.94z\"/><path d=\"M17.41 7.96l-1.37-1.37c-.4-.4-.92-.59-1.43-.59-.52 0-1.04.2-1.43.59L10.3 9.45l-7.72 7.72c-.78.78-.78 2.05 0 2.83L4 21.41c.39.39.9.59 1.41.59.51 0 1.02-.2 1.41-.59l7.78-7.78 2.81-2.81c.8-.78.8-2.07 0-2.86zM5.41 20L4 18.59l7.72-7.72 1.47 1.35L5.41 20z\"/>\n",
              "  </svg>\n",
              "      </button>\n",
              "      \n",
              "  <style>\n",
              "    .colab-df-container {\n",
              "      display:flex;\n",
              "      flex-wrap:wrap;\n",
              "      gap: 12px;\n",
              "    }\n",
              "\n",
              "    .colab-df-convert {\n",
              "      background-color: #E8F0FE;\n",
              "      border: none;\n",
              "      border-radius: 50%;\n",
              "      cursor: pointer;\n",
              "      display: none;\n",
              "      fill: #1967D2;\n",
              "      height: 32px;\n",
              "      padding: 0 0 0 0;\n",
              "      width: 32px;\n",
              "    }\n",
              "\n",
              "    .colab-df-convert:hover {\n",
              "      background-color: #E2EBFA;\n",
              "      box-shadow: 0px 1px 2px rgba(60, 64, 67, 0.3), 0px 1px 3px 1px rgba(60, 64, 67, 0.15);\n",
              "      fill: #174EA6;\n",
              "    }\n",
              "\n",
              "    [theme=dark] .colab-df-convert {\n",
              "      background-color: #3B4455;\n",
              "      fill: #D2E3FC;\n",
              "    }\n",
              "\n",
              "    [theme=dark] .colab-df-convert:hover {\n",
              "      background-color: #434B5C;\n",
              "      box-shadow: 0px 1px 3px 1px rgba(0, 0, 0, 0.15);\n",
              "      filter: drop-shadow(0px 1px 2px rgba(0, 0, 0, 0.3));\n",
              "      fill: #FFFFFF;\n",
              "    }\n",
              "  </style>\n",
              "\n",
              "      <script>\n",
              "        const buttonEl =\n",
              "          document.querySelector('#df-cbf7b578-243f-46a5-9a94-37dafdf86a7e button.colab-df-convert');\n",
              "        buttonEl.style.display =\n",
              "          google.colab.kernel.accessAllowed ? 'block' : 'none';\n",
              "\n",
              "        async function convertToInteractive(key) {\n",
              "          const element = document.querySelector('#df-cbf7b578-243f-46a5-9a94-37dafdf86a7e');\n",
              "          const dataTable =\n",
              "            await google.colab.kernel.invokeFunction('convertToInteractive',\n",
              "                                                     [key], {});\n",
              "          if (!dataTable) return;\n",
              "\n",
              "          const docLinkHtml = 'Like what you see? Visit the ' +\n",
              "            '<a target=\"_blank\" href=https://colab.research.google.com/notebooks/data_table.ipynb>data table notebook</a>'\n",
              "            + ' to learn more about interactive tables.';\n",
              "          element.innerHTML = '';\n",
              "          dataTable['output_type'] = 'display_data';\n",
              "          await google.colab.output.renderOutput(dataTable, element);\n",
              "          const docLink = document.createElement('div');\n",
              "          docLink.innerHTML = docLinkHtml;\n",
              "          element.appendChild(docLink);\n",
              "        }\n",
              "      </script>\n",
              "    </div>\n",
              "  </div>\n",
              "  "
            ]
          },
          "metadata": {},
          "execution_count": 5
        }
      ],
      "source": [
        "#downloaded dataset from https://www.kaggle.com/datasets/prathamtripathi/drug-classification\n",
        "data = pd.read_csv(\"drug200.csv\")\n",
        "data.head()"
      ]
    },
    {
      "cell_type": "code",
      "execution_count": null,
      "id": "6136b832",
      "metadata": {
        "execution": {
          "iopub.execute_input": "2022-11-18T12:56:45.688318Z",
          "iopub.status.busy": "2022-11-18T12:56:45.686729Z",
          "iopub.status.idle": "2022-11-18T12:56:45.700345Z",
          "shell.execute_reply": "2022-11-18T12:56:45.698469Z"
        },
        "papermill": {
          "duration": 0.023857,
          "end_time": "2022-11-18T12:56:45.703374",
          "exception": false,
          "start_time": "2022-11-18T12:56:45.679517",
          "status": "completed"
        },
        "tags": [],
        "id": "6136b832"
      },
      "outputs": [],
      "source": [
        "X = data.iloc[:, :-1].values\n",
        "y = data.iloc[:, -1].values"
      ]
    },
    {
      "cell_type": "markdown",
      "id": "72b9b3cd",
      "metadata": {
        "papermill": {
          "duration": 0.005011,
          "end_time": "2022-11-18T12:56:45.714607",
          "exception": false,
          "start_time": "2022-11-18T12:56:45.709596",
          "status": "completed"
        },
        "tags": [],
        "id": "72b9b3cd"
      },
      "source": [
        "## Encoding"
      ]
    },
    {
      "cell_type": "code",
      "execution_count": null,
      "id": "a1463619",
      "metadata": {
        "execution": {
          "iopub.execute_input": "2022-11-18T12:56:45.727874Z",
          "iopub.status.busy": "2022-11-18T12:56:45.726963Z",
          "iopub.status.idle": "2022-11-18T12:56:45.739262Z",
          "shell.execute_reply": "2022-11-18T12:56:45.738086Z"
        },
        "papermill": {
          "duration": 0.022359,
          "end_time": "2022-11-18T12:56:45.742261",
          "exception": false,
          "start_time": "2022-11-18T12:56:45.719902",
          "status": "completed"
        },
        "tags": [],
        "id": "a1463619"
      },
      "outputs": [],
      "source": [
        "# sex, BP, Cholesterol, Drug columns encoding\n",
        "\n",
        "# sex column\n",
        "le = LabelEncoder()\n",
        "X[:, 1] = le.fit_transform(X[:, 1])\n",
        "\n",
        "# BP, Cholestero columns\n",
        "ct = ColumnTransformer(transformers=[('encoder', OneHotEncoder(), [2, 3])], remainder='passthrough')\n",
        "X = np.array(ct.fit_transform(X))\n",
        "\n",
        "# Drug column\n",
        "encoder = OneHotEncoder()\n",
        "encoded_Y = encoder.fit(y.reshape(-1,1))\n",
        "y = encoded_Y.transform(y.reshape(-1,1)).toarray()"
      ]
    },
    {
      "cell_type": "markdown",
      "id": "42848828",
      "metadata": {
        "papermill": {
          "duration": 0.005832,
          "end_time": "2022-11-18T12:56:45.753473",
          "exception": false,
          "start_time": "2022-11-18T12:56:45.747641",
          "status": "completed"
        },
        "tags": [],
        "id": "42848828"
      },
      "source": [
        "## Split"
      ]
    },
    {
      "cell_type": "code",
      "execution_count": null,
      "id": "305f967e",
      "metadata": {
        "execution": {
          "iopub.execute_input": "2022-11-18T12:56:45.766673Z",
          "iopub.status.busy": "2022-11-18T12:56:45.765825Z",
          "iopub.status.idle": "2022-11-18T12:56:45.772346Z",
          "shell.execute_reply": "2022-11-18T12:56:45.771191Z"
        },
        "papermill": {
          "duration": 0.016123,
          "end_time": "2022-11-18T12:56:45.775002",
          "exception": false,
          "start_time": "2022-11-18T12:56:45.758879",
          "status": "completed"
        },
        "tags": [],
        "id": "305f967e"
      },
      "outputs": [],
      "source": [
        "X_train, X_test, y_train, y_test = train_test_split(X, y, test_size=0.2, random_state=42)"
      ]
    },
    {
      "cell_type": "markdown",
      "id": "018124ea",
      "metadata": {
        "papermill": {
          "duration": 0.00626,
          "end_time": "2022-11-18T12:56:45.786617",
          "exception": false,
          "start_time": "2022-11-18T12:56:45.780357",
          "status": "completed"
        },
        "tags": [],
        "id": "018124ea"
      },
      "source": [
        "## Scaling"
      ]
    },
    {
      "cell_type": "code",
      "execution_count": null,
      "id": "ebe14389",
      "metadata": {
        "execution": {
          "iopub.execute_input": "2022-11-18T12:56:45.801565Z",
          "iopub.status.busy": "2022-11-18T12:56:45.800324Z",
          "iopub.status.idle": "2022-11-18T12:56:45.807202Z",
          "shell.execute_reply": "2022-11-18T12:56:45.806247Z"
        },
        "papermill": {
          "duration": 0.016798,
          "end_time": "2022-11-18T12:56:45.809816",
          "exception": false,
          "start_time": "2022-11-18T12:56:45.793018",
          "status": "completed"
        },
        "tags": [],
        "id": "ebe14389"
      },
      "outputs": [],
      "source": [
        "sc = StandardScaler()\n",
        "X_train = sc.fit_transform(X_train)\n",
        "X_test = sc.transform(X_test)"
      ]
    },
    {
      "cell_type": "markdown",
      "id": "4553329e",
      "metadata": {
        "papermill": {
          "duration": 0.004792,
          "end_time": "2022-11-18T12:56:45.819830",
          "exception": false,
          "start_time": "2022-11-18T12:56:45.815038",
          "status": "completed"
        },
        "tags": [],
        "id": "4553329e"
      },
      "source": [
        "# 2. Artificial Neural Netwrok (ANN)"
      ]
    },
    {
      "cell_type": "code",
      "execution_count": null,
      "id": "86e6d51f",
      "metadata": {
        "execution": {
          "iopub.execute_input": "2022-11-18T12:56:45.832783Z",
          "iopub.status.busy": "2022-11-18T12:56:45.831579Z",
          "iopub.status.idle": "2022-11-18T12:56:47.492461Z",
          "shell.execute_reply": "2022-11-18T12:56:47.491092Z"
        },
        "papermill": {
          "duration": 1.673026,
          "end_time": "2022-11-18T12:56:47.498056",
          "exception": false,
          "start_time": "2022-11-18T12:56:45.825030",
          "status": "completed"
        },
        "tags": [],
        "id": "86e6d51f"
      },
      "outputs": [],
      "source": [
        "# hidden layers (2)\n",
        "\n",
        "ann = tf.keras.models.Sequential()\n",
        "ann.add(tf.keras.layers.Dense(units=12, activation='relu'))\n",
        "ann.add(tf.keras.layers.Dense(units=12, activation='relu'))"
      ]
    },
    {
      "cell_type": "code",
      "execution_count": null,
      "id": "f06fc5dd",
      "metadata": {
        "execution": {
          "iopub.execute_input": "2022-11-18T12:56:47.516903Z",
          "iopub.status.busy": "2022-11-18T12:56:47.515323Z",
          "iopub.status.idle": "2022-11-18T12:56:47.529982Z",
          "shell.execute_reply": "2022-11-18T12:56:47.528259Z"
        },
        "papermill": {
          "duration": 0.028952,
          "end_time": "2022-11-18T12:56:47.533105",
          "exception": false,
          "start_time": "2022-11-18T12:56:47.504153",
          "status": "completed"
        },
        "tags": [],
        "id": "f06fc5dd"
      },
      "outputs": [],
      "source": [
        "# output layer\n",
        "\n",
        "number_of_possible_outcomes =  len(set(data[\"Drug\"]))\n",
        "ann.add(tf.keras.layers.Dense(units=number_of_possible_outcomes, activation='softmax'))"
      ]
    },
    {
      "cell_type": "code",
      "execution_count": null,
      "id": "8075284b",
      "metadata": {
        "execution": {
          "iopub.execute_input": "2022-11-18T12:56:47.547704Z",
          "iopub.status.busy": "2022-11-18T12:56:47.546728Z",
          "iopub.status.idle": "2022-11-18T12:56:47.574043Z",
          "shell.execute_reply": "2022-11-18T12:56:47.572747Z"
        },
        "papermill": {
          "duration": 0.037834,
          "end_time": "2022-11-18T12:56:47.577050",
          "exception": false,
          "start_time": "2022-11-18T12:56:47.539216",
          "status": "completed"
        },
        "tags": [],
        "id": "8075284b"
      },
      "outputs": [],
      "source": [
        "# compile\n",
        "\n",
        "ann.compile(optimizer='adam', loss='categorical_crossentropy', metrics=['accuracy'])"
      ]
    },
    {
      "cell_type": "code",
      "execution_count": null,
      "id": "d2f9e4a5",
      "metadata": {
        "execution": {
          "iopub.execute_input": "2022-11-18T12:56:47.591688Z",
          "iopub.status.busy": "2022-11-18T12:56:47.591188Z",
          "iopub.status.idle": "2022-11-18T12:56:50.352947Z",
          "shell.execute_reply": "2022-11-18T12:56:50.351392Z"
        },
        "papermill": {
          "duration": 2.772405,
          "end_time": "2022-11-18T12:56:50.356111",
          "exception": false,
          "start_time": "2022-11-18T12:56:47.583706",
          "status": "completed"
        },
        "tags": [],
        "colab": {
          "base_uri": "https://localhost:8080/"
        },
        "id": "d2f9e4a5",
        "outputId": "ad1b9140-c046-4b66-a982-b9b8ee58c8bc"
      },
      "outputs": [
        {
          "output_type": "stream",
          "name": "stdout",
          "text": [
            "Epoch 1/100\n",
            "5/5 [==============================] - 1s 5ms/step - loss: 1.7724 - accuracy: 0.1312\n",
            "Epoch 2/100\n",
            "5/5 [==============================] - 0s 4ms/step - loss: 1.7386 - accuracy: 0.1437\n",
            "Epoch 3/100\n",
            "5/5 [==============================] - 0s 3ms/step - loss: 1.7064 - accuracy: 0.1625\n",
            "Epoch 4/100\n",
            "5/5 [==============================] - 0s 3ms/step - loss: 1.6761 - accuracy: 0.1688\n",
            "Epoch 5/100\n",
            "5/5 [==============================] - 0s 4ms/step - loss: 1.6471 - accuracy: 0.2125\n",
            "Epoch 6/100\n",
            "5/5 [==============================] - 0s 3ms/step - loss: 1.6194 - accuracy: 0.2500\n",
            "Epoch 7/100\n",
            "5/5 [==============================] - 0s 4ms/step - loss: 1.5931 - accuracy: 0.2562\n",
            "Epoch 8/100\n",
            "5/5 [==============================] - 0s 4ms/step - loss: 1.5688 - accuracy: 0.2562\n",
            "Epoch 9/100\n",
            "5/5 [==============================] - 0s 3ms/step - loss: 1.5439 - accuracy: 0.2688\n",
            "Epoch 10/100\n",
            "5/5 [==============================] - 0s 3ms/step - loss: 1.5195 - accuracy: 0.3125\n",
            "Epoch 11/100\n",
            "5/5 [==============================] - 0s 4ms/step - loss: 1.4969 - accuracy: 0.3688\n",
            "Epoch 12/100\n",
            "5/5 [==============================] - 0s 3ms/step - loss: 1.4730 - accuracy: 0.3625\n",
            "Epoch 13/100\n",
            "5/5 [==============================] - 0s 3ms/step - loss: 1.4498 - accuracy: 0.3875\n",
            "Epoch 14/100\n",
            "5/5 [==============================] - 0s 4ms/step - loss: 1.4263 - accuracy: 0.4187\n",
            "Epoch 15/100\n",
            "5/5 [==============================] - 0s 3ms/step - loss: 1.4024 - accuracy: 0.4437\n",
            "Epoch 16/100\n",
            "5/5 [==============================] - 0s 4ms/step - loss: 1.3779 - accuracy: 0.4563\n",
            "Epoch 17/100\n",
            "5/5 [==============================] - 0s 4ms/step - loss: 1.3541 - accuracy: 0.4688\n",
            "Epoch 18/100\n",
            "5/5 [==============================] - 0s 4ms/step - loss: 1.3296 - accuracy: 0.4688\n",
            "Epoch 19/100\n",
            "5/5 [==============================] - 0s 3ms/step - loss: 1.3062 - accuracy: 0.5125\n",
            "Epoch 20/100\n",
            "5/5 [==============================] - 0s 3ms/step - loss: 1.2814 - accuracy: 0.5312\n",
            "Epoch 21/100\n",
            "5/5 [==============================] - 0s 4ms/step - loss: 1.2579 - accuracy: 0.5437\n",
            "Epoch 22/100\n",
            "5/5 [==============================] - 0s 4ms/step - loss: 1.2337 - accuracy: 0.5500\n",
            "Epoch 23/100\n",
            "5/5 [==============================] - 0s 3ms/step - loss: 1.2099 - accuracy: 0.5875\n",
            "Epoch 24/100\n",
            "5/5 [==============================] - 0s 4ms/step - loss: 1.1850 - accuracy: 0.6000\n",
            "Epoch 25/100\n",
            "5/5 [==============================] - 0s 4ms/step - loss: 1.1614 - accuracy: 0.6125\n",
            "Epoch 26/100\n",
            "5/5 [==============================] - 0s 4ms/step - loss: 1.1372 - accuracy: 0.6313\n",
            "Epoch 27/100\n",
            "5/5 [==============================] - 0s 3ms/step - loss: 1.1126 - accuracy: 0.6375\n",
            "Epoch 28/100\n",
            "5/5 [==============================] - 0s 5ms/step - loss: 1.0900 - accuracy: 0.6562\n",
            "Epoch 29/100\n",
            "5/5 [==============================] - 0s 4ms/step - loss: 1.0657 - accuracy: 0.6750\n",
            "Epoch 30/100\n",
            "5/5 [==============================] - 0s 6ms/step - loss: 1.0419 - accuracy: 0.6812\n",
            "Epoch 31/100\n",
            "5/5 [==============================] - 0s 4ms/step - loss: 1.0196 - accuracy: 0.6750\n",
            "Epoch 32/100\n",
            "5/5 [==============================] - 0s 3ms/step - loss: 0.9974 - accuracy: 0.6812\n",
            "Epoch 33/100\n",
            "5/5 [==============================] - 0s 3ms/step - loss: 0.9758 - accuracy: 0.6750\n",
            "Epoch 34/100\n",
            "5/5 [==============================] - 0s 4ms/step - loss: 0.9546 - accuracy: 0.6750\n",
            "Epoch 35/100\n",
            "5/5 [==============================] - 0s 5ms/step - loss: 0.9350 - accuracy: 0.6812\n",
            "Epoch 36/100\n",
            "5/5 [==============================] - 0s 4ms/step - loss: 0.9157 - accuracy: 0.6875\n",
            "Epoch 37/100\n",
            "5/5 [==============================] - 0s 5ms/step - loss: 0.8964 - accuracy: 0.6938\n",
            "Epoch 38/100\n",
            "5/5 [==============================] - 0s 4ms/step - loss: 0.8786 - accuracy: 0.7063\n",
            "Epoch 39/100\n",
            "5/5 [==============================] - 0s 4ms/step - loss: 0.8605 - accuracy: 0.7250\n",
            "Epoch 40/100\n",
            "5/5 [==============================] - 0s 4ms/step - loss: 0.8437 - accuracy: 0.7312\n",
            "Epoch 41/100\n",
            "5/5 [==============================] - 0s 4ms/step - loss: 0.8271 - accuracy: 0.7375\n",
            "Epoch 42/100\n",
            "5/5 [==============================] - 0s 4ms/step - loss: 0.8113 - accuracy: 0.7437\n",
            "Epoch 43/100\n",
            "5/5 [==============================] - 0s 4ms/step - loss: 0.7964 - accuracy: 0.7375\n",
            "Epoch 44/100\n",
            "5/5 [==============================] - 0s 5ms/step - loss: 0.7815 - accuracy: 0.7437\n",
            "Epoch 45/100\n",
            "5/5 [==============================] - 0s 4ms/step - loss: 0.7680 - accuracy: 0.7312\n",
            "Epoch 46/100\n",
            "5/5 [==============================] - 0s 4ms/step - loss: 0.7535 - accuracy: 0.7312\n",
            "Epoch 47/100\n",
            "5/5 [==============================] - 0s 3ms/step - loss: 0.7409 - accuracy: 0.7375\n",
            "Epoch 48/100\n",
            "5/5 [==============================] - 0s 3ms/step - loss: 0.7279 - accuracy: 0.7437\n",
            "Epoch 49/100\n",
            "5/5 [==============================] - 0s 3ms/step - loss: 0.7156 - accuracy: 0.7500\n",
            "Epoch 50/100\n",
            "5/5 [==============================] - 0s 4ms/step - loss: 0.7033 - accuracy: 0.7688\n",
            "Epoch 51/100\n",
            "5/5 [==============================] - 0s 3ms/step - loss: 0.6914 - accuracy: 0.7688\n",
            "Epoch 52/100\n",
            "5/5 [==============================] - 0s 4ms/step - loss: 0.6801 - accuracy: 0.7688\n",
            "Epoch 53/100\n",
            "5/5 [==============================] - 0s 3ms/step - loss: 0.6686 - accuracy: 0.7688\n",
            "Epoch 54/100\n",
            "5/5 [==============================] - 0s 3ms/step - loss: 0.6579 - accuracy: 0.7688\n",
            "Epoch 55/100\n",
            "5/5 [==============================] - 0s 4ms/step - loss: 0.6470 - accuracy: 0.7750\n",
            "Epoch 56/100\n",
            "5/5 [==============================] - 0s 4ms/step - loss: 0.6367 - accuracy: 0.7750\n",
            "Epoch 57/100\n",
            "5/5 [==============================] - 0s 4ms/step - loss: 0.6267 - accuracy: 0.7750\n",
            "Epoch 58/100\n",
            "5/5 [==============================] - 0s 4ms/step - loss: 0.6164 - accuracy: 0.7812\n",
            "Epoch 59/100\n",
            "5/5 [==============================] - 0s 4ms/step - loss: 0.6064 - accuracy: 0.7812\n",
            "Epoch 60/100\n",
            "5/5 [==============================] - 0s 3ms/step - loss: 0.5968 - accuracy: 0.7812\n",
            "Epoch 61/100\n",
            "5/5 [==============================] - 0s 4ms/step - loss: 0.5870 - accuracy: 0.7812\n",
            "Epoch 62/100\n",
            "5/5 [==============================] - 0s 4ms/step - loss: 0.5776 - accuracy: 0.7812\n",
            "Epoch 63/100\n",
            "5/5 [==============================] - 0s 4ms/step - loss: 0.5689 - accuracy: 0.7875\n",
            "Epoch 64/100\n",
            "5/5 [==============================] - 0s 3ms/step - loss: 0.5596 - accuracy: 0.7875\n",
            "Epoch 65/100\n",
            "5/5 [==============================] - 0s 3ms/step - loss: 0.5507 - accuracy: 0.7875\n",
            "Epoch 66/100\n",
            "5/5 [==============================] - 0s 3ms/step - loss: 0.5419 - accuracy: 0.7875\n",
            "Epoch 67/100\n",
            "5/5 [==============================] - 0s 4ms/step - loss: 0.5329 - accuracy: 0.7937\n",
            "Epoch 68/100\n",
            "5/5 [==============================] - 0s 4ms/step - loss: 0.5245 - accuracy: 0.8000\n",
            "Epoch 69/100\n",
            "5/5 [==============================] - 0s 4ms/step - loss: 0.5158 - accuracy: 0.8000\n",
            "Epoch 70/100\n",
            "5/5 [==============================] - 0s 4ms/step - loss: 0.5069 - accuracy: 0.8062\n",
            "Epoch 71/100\n",
            "5/5 [==============================] - 0s 6ms/step - loss: 0.4985 - accuracy: 0.8062\n",
            "Epoch 72/100\n",
            "5/5 [==============================] - 0s 4ms/step - loss: 0.4897 - accuracy: 0.8062\n",
            "Epoch 73/100\n",
            "5/5 [==============================] - 0s 4ms/step - loss: 0.4818 - accuracy: 0.8062\n",
            "Epoch 74/100\n",
            "5/5 [==============================] - 0s 3ms/step - loss: 0.4731 - accuracy: 0.8125\n",
            "Epoch 75/100\n",
            "5/5 [==============================] - 0s 3ms/step - loss: 0.4646 - accuracy: 0.8188\n",
            "Epoch 76/100\n",
            "5/5 [==============================] - 0s 4ms/step - loss: 0.4564 - accuracy: 0.8313\n",
            "Epoch 77/100\n",
            "5/5 [==============================] - 0s 4ms/step - loss: 0.4481 - accuracy: 0.8500\n",
            "Epoch 78/100\n",
            "5/5 [==============================] - 0s 3ms/step - loss: 0.4400 - accuracy: 0.8500\n",
            "Epoch 79/100\n",
            "5/5 [==============================] - 0s 4ms/step - loss: 0.4326 - accuracy: 0.8562\n",
            "Epoch 80/100\n",
            "5/5 [==============================] - 0s 3ms/step - loss: 0.4246 - accuracy: 0.8562\n",
            "Epoch 81/100\n",
            "5/5 [==============================] - 0s 6ms/step - loss: 0.4168 - accuracy: 0.8562\n",
            "Epoch 82/100\n",
            "5/5 [==============================] - 0s 4ms/step - loss: 0.4094 - accuracy: 0.8562\n",
            "Epoch 83/100\n",
            "5/5 [==============================] - 0s 3ms/step - loss: 0.4021 - accuracy: 0.8562\n",
            "Epoch 84/100\n",
            "5/5 [==============================] - 0s 4ms/step - loss: 0.3948 - accuracy: 0.8562\n",
            "Epoch 85/100\n",
            "5/5 [==============================] - 0s 4ms/step - loss: 0.3873 - accuracy: 0.8625\n",
            "Epoch 86/100\n",
            "5/5 [==============================] - 0s 4ms/step - loss: 0.3799 - accuracy: 0.8625\n",
            "Epoch 87/100\n",
            "5/5 [==============================] - 0s 3ms/step - loss: 0.3733 - accuracy: 0.8750\n",
            "Epoch 88/100\n",
            "5/5 [==============================] - 0s 4ms/step - loss: 0.3668 - accuracy: 0.8813\n",
            "Epoch 89/100\n",
            "5/5 [==============================] - 0s 4ms/step - loss: 0.3601 - accuracy: 0.8813\n",
            "Epoch 90/100\n",
            "5/5 [==============================] - 0s 7ms/step - loss: 0.3537 - accuracy: 0.8875\n",
            "Epoch 91/100\n",
            "5/5 [==============================] - 0s 4ms/step - loss: 0.3478 - accuracy: 0.8875\n",
            "Epoch 92/100\n",
            "5/5 [==============================] - 0s 4ms/step - loss: 0.3417 - accuracy: 0.8875\n",
            "Epoch 93/100\n",
            "5/5 [==============================] - 0s 5ms/step - loss: 0.3366 - accuracy: 0.8875\n",
            "Epoch 94/100\n",
            "5/5 [==============================] - 0s 4ms/step - loss: 0.3308 - accuracy: 0.9000\n",
            "Epoch 95/100\n",
            "5/5 [==============================] - 0s 4ms/step - loss: 0.3253 - accuracy: 0.9062\n",
            "Epoch 96/100\n",
            "5/5 [==============================] - 0s 4ms/step - loss: 0.3202 - accuracy: 0.9125\n",
            "Epoch 97/100\n",
            "5/5 [==============================] - 0s 4ms/step - loss: 0.3154 - accuracy: 0.9187\n",
            "Epoch 98/100\n",
            "5/5 [==============================] - 0s 4ms/step - loss: 0.3104 - accuracy: 0.9312\n",
            "Epoch 99/100\n",
            "5/5 [==============================] - 0s 4ms/step - loss: 0.3056 - accuracy: 0.9312\n",
            "Epoch 100/100\n",
            "5/5 [==============================] - 0s 4ms/step - loss: 0.3010 - accuracy: 0.9312\n"
          ]
        },
        {
          "output_type": "execute_result",
          "data": {
            "text/plain": [
              "<keras.callbacks.History at 0x7f4a6dcc3b80>"
            ]
          },
          "metadata": {},
          "execution_count": 13
        }
      ],
      "source": [
        "ann.fit(X_train, y_train, batch_size=32, epochs=100)"
      ]
    },
    {
      "cell_type": "markdown",
      "id": "87f23b9b",
      "metadata": {
        "papermill": {
          "duration": 0.021036,
          "end_time": "2022-11-18T12:56:50.398199",
          "exception": false,
          "start_time": "2022-11-18T12:56:50.377163",
          "status": "completed"
        },
        "tags": [],
        "id": "87f23b9b"
      },
      "source": [
        "# 3. Prediction for test data"
      ]
    },
    {
      "cell_type": "code",
      "execution_count": null,
      "id": "f13348ef",
      "metadata": {
        "execution": {
          "iopub.execute_input": "2022-11-18T12:56:50.442294Z",
          "iopub.status.busy": "2022-11-18T12:56:50.441374Z",
          "iopub.status.idle": "2022-11-18T12:56:50.647064Z",
          "shell.execute_reply": "2022-11-18T12:56:50.645427Z"
        },
        "papermill": {
          "duration": 0.230589,
          "end_time": "2022-11-18T12:56:50.649852",
          "exception": false,
          "start_time": "2022-11-18T12:56:50.419263",
          "status": "completed"
        },
        "tags": [],
        "colab": {
          "base_uri": "https://localhost:8080/"
        },
        "id": "f13348ef",
        "outputId": "04f3e74b-f3cd-41b5-a348-c55fb41bd45a"
      },
      "outputs": [
        {
          "output_type": "stream",
          "name": "stdout",
          "text": [
            "2/2 [==============================] - 0s 5ms/step\n"
          ]
        }
      ],
      "source": [
        "y_pred = ann.predict(X_test)"
      ]
    },
    {
      "cell_type": "code",
      "execution_count": null,
      "id": "c1bbed04",
      "metadata": {
        "execution": {
          "iopub.execute_input": "2022-11-18T12:56:50.701415Z",
          "iopub.status.busy": "2022-11-18T12:56:50.699783Z",
          "iopub.status.idle": "2022-11-18T12:56:50.707145Z",
          "shell.execute_reply": "2022-11-18T12:56:50.706048Z"
        },
        "papermill": {
          "duration": 0.033936,
          "end_time": "2022-11-18T12:56:50.709869",
          "exception": false,
          "start_time": "2022-11-18T12:56:50.675933",
          "status": "completed"
        },
        "tags": [],
        "id": "c1bbed04"
      },
      "outputs": [],
      "source": [
        "# conver prediction outcome to the actual values\n",
        "\n",
        "y_pred_outcome = []\n",
        "for output in y_pred:\n",
        "    output_list = [0] * number_of_possible_outcomes\n",
        "    output_list[np.where(output == max(output))[0][0]] = 1\n",
        "    y_pred_outcome.append(output_list)"
      ]
    },
    {
      "cell_type": "code",
      "execution_count": null,
      "id": "a81952e8",
      "metadata": {
        "execution": {
          "iopub.execute_input": "2022-11-18T12:56:50.752785Z",
          "iopub.status.busy": "2022-11-18T12:56:50.750999Z",
          "iopub.status.idle": "2022-11-18T12:56:50.766237Z",
          "shell.execute_reply": "2022-11-18T12:56:50.765136Z"
        },
        "papermill": {
          "duration": 0.039226,
          "end_time": "2022-11-18T12:56:50.768879",
          "exception": false,
          "start_time": "2022-11-18T12:56:50.729653",
          "status": "completed"
        },
        "tags": [],
        "colab": {
          "base_uri": "https://localhost:8080/"
        },
        "id": "a81952e8",
        "outputId": "81ae9803-0e17-4175-90f9-1e5deb6d06d8"
      },
      "outputs": [
        {
          "output_type": "execute_result",
          "data": {
            "text/plain": [
              "0.825"
            ]
          },
          "metadata": {},
          "execution_count": 16
        }
      ],
      "source": [
        "accuracy_score(y_test, y_pred_outcome)"
      ]
    }
  ],
  "metadata": {
    "kernelspec": {
      "display_name": "Python 3",
      "language": "python",
      "name": "python3"
    },
    "language_info": {
      "codemirror_mode": {
        "name": "ipython",
        "version": 3
      },
      "file_extension": ".py",
      "mimetype": "text/x-python",
      "name": "python",
      "nbconvert_exporter": "python",
      "pygments_lexer": "ipython3",
      "version": "3.7.12"
    },
    "papermill": {
      "default_parameters": {},
      "duration": 27.362245,
      "end_time": "2022-11-18T12:56:54.100501",
      "environment_variables": {},
      "exception": null,
      "input_path": "__notebook__.ipynb",
      "output_path": "__notebook__.ipynb",
      "parameters": {},
      "start_time": "2022-11-18T12:56:26.738256",
      "version": "2.3.4"
    },
    "colab": {
      "provenance": [],
      "include_colab_link": true
    }
  },
  "nbformat": 4,
  "nbformat_minor": 5
}
